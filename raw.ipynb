{
 "cells": [
  {
   "cell_type": "code",
   "execution_count": 1,
   "id": "09c714be",
   "metadata": {},
   "outputs": [],
   "source": [
    "import torch\n",
    "from torch import nn\n",
    "from matplotlib import pyplot as plt\n",
    "import numpy as np\n",
    "from tqdm import trange\n",
    "import gzip\n",
    "import requests as r"
   ]
  },
  {
   "cell_type": "code",
   "execution_count": 2,
   "id": "2252e0f1",
   "metadata": {},
   "outputs": [],
   "source": [
    "DOWNLOAD = False\n",
    "urls = ['http://yann.lecun.com/exdb/mnist/train-images-idx3-ubyte.gz',\n",
    "       'http://yann.lecun.com/exdb/mnist/train-labels-idx1-ubyte.gz',\n",
    "       'http://yann.lecun.com/exdb/mnist/t10k-images-idx3-ubyte.gz',\n",
    "       'http://yann.lecun.com/exdb/mnist/t10k-labels-idx1-ubyte.gz']\n",
    "\n",
    "def download(urls):\n",
    "    for url in urls:\n",
    "        buf = r.get(url).content\n",
    "        with open('./downloads/' + url.split('/')[-1], 'wb') as f:\n",
    "            f.write(bytearray(buf))\n",
    "\n",
    "if DOWNLOAD:\n",
    "    download(urls)\n",
    "\n",
    "paths = {\n",
    "    'test_imgs': 't10k-images-idx3-ubyte.gz',\n",
    "    'test_labels': 't10k-labels-idx1-ubyte.gz',\n",
    "    'train_imgs': 'train-images-idx3-ubyte.gz',\n",
    "    'train_labels': 'train-labels-idx1-ubyte.gz'\n",
    "}\n",
    "for path in paths:\n",
    "    paths[path] = './downloads/' + paths[path]\n",
    "\n",
    "try:\n",
    "    for _, arr in data.items():\n",
    "        print(arr.shape)\n",
    "except NameError:\n",
    "    data = dict()\n",
    "    for name, path in paths.items():\n",
    "        with gzip.open(path) as f:\n",
    "            if 'imgs' in name:\n",
    "                data[name] = np.frombuffer(f.read(), 'B', offset=16).reshape((-1, 1, 28, 28))\n",
    "            else:\n",
    "                data[name] = np.frombuffer(f.read(), 'B', offset=8)"
   ]
  },
  {
   "cell_type": "code",
   "execution_count": 3,
   "id": "d3b15447",
   "metadata": {},
   "outputs": [],
   "source": [
    "test_imgs = data['test_imgs']\n",
    "test_labels = data['test_labels']\n",
    "train_imgs = data['train_imgs']\n",
    "train_labels = data['train_labels']"
   ]
  },
  {
   "cell_type": "code",
   "execution_count": 4,
   "id": "016e60a7",
   "metadata": {},
   "outputs": [],
   "source": [
    "class BobNet(nn.Module):\n",
    "    def __init__(self):\n",
    "        super(BobNet, self).__init__()\n",
    "        self.hid = nn.Sequential(\n",
    "            nn.Flatten(),\n",
    "            nn.Linear(28*28, 128),\n",
    "            nn.ReLU(),\n",
    "            nn.Linear(128, 10),\n",
    "        )\n",
    "    def forward(self, x):\n",
    "        return self.hid(x)"
   ]
  },
  {
   "cell_type": "code",
   "execution_count": 5,
   "id": "bf065939",
   "metadata": {
    "scrolled": true
   },
   "outputs": [
    {
     "name": "stderr",
     "output_type": "stream",
     "text": [
      "Loss= 0.03, Acc= 1.00:  62%|███████████████████████████████████████████████████▉                                | 3093/5000 [00:03<00:01, 1011.30it/s]IOPub message rate exceeded.\n",
      "The notebook server will temporarily stop sending output\n",
      "to the client in order to avoid crashing it.\n",
      "To change this limit, set the config variable\n",
      "`--NotebookApp.iopub_msg_rate_limit`.\n",
      "\n",
      "Current values:\n",
      "NotebookApp.iopub_msg_rate_limit=1000.0 (msgs/sec)\n",
      "NotebookApp.rate_limit_window=3.0 (secs)\n",
      "\n",
      "Loss= 0.17, Acc= 0.97: 100%|████████████████████████████████████████████████████████████████████████████████████| 5000/5000 [00:04<00:00, 1029.87it/s]\n"
     ]
    },
    {
     "data": {
      "image/png": "[encoded data removed]",
      "text/plain": [
       "<Figure size 432x288 with 1 Axes>"
      ]
     },
     "metadata": {
      "needs_background": "light"
     },
     "output_type": "display_data"
    }
   ],
   "source": [
    "model = BobNet()\n",
    "loss_fn = nn.CrossEntropyLoss()\n",
    "optimizer = torch.optim.SGD(model.parameters(), lr=1e-3, momentum=0)\n",
    "epochs = 5000\n",
    "BS = 32\n",
    "\n",
    "losses, accs  = [], []\n",
    "for i in (t := trange(epochs)):\n",
    "    samp = np.random.randint(0, train_imgs.shape[0], size=BS)\n",
    "    X = torch.tensor(train_imgs[samp]).float()\n",
    "    Y = torch.tensor(train_labels[samp]).long()\n",
    "    \n",
    "    optimizer.zero_grad()\n",
    "    pred = model(X)\n",
    "    loss = loss_fn(pred, Y)\n",
    "    Y_hat = torch.argmax(pred, dim=1)\n",
    "    acc = (Y_hat == Y).float().mean()\n",
    "    loss.backward()\n",
    "    optimizer.step()\n",
    "    loss, acc = loss.item(), acc.item()\n",
    "    losses.append(loss)\n",
    "    accs.append(acc)\n",
    "    t.set_description(f'Loss={loss: .2f}, Acc={acc: .2f}')\n",
    "\n",
    "plt.ylim(-.1, 1.1)\n",
    "plt.plot(losses, label='Losses')\n",
    "plt.plot(accs, label='Accs')\n",
    "plt.legend()\n",
    "plt.show()"
   ]
  },
  {
   "cell_type": "code",
   "execution_count": 6,
   "id": "c3bfb963",
   "metadata": {},
   "outputs": [],
   "source": [
    "def layer_init(size):\n",
    "    return np.random.uniform(-1, 1, size=size)/np.sqrt(np.prod(size))\n",
    "\n",
    "class Linear():\n",
    "    def __init__(self, in_dim, out_dim):\n",
    "        self.in_dim = in_dim\n",
    "        self.out_dim = out_dim\n",
    "        self.weight = layer_init((out_dim, in_dim))\n",
    "        self.bias = layer_init((out_dim))\n",
    "\n",
    "        self.weight_grad = np.empty((out_dim))\n",
    "        self.bias_grad = np.empty((out_dim))\n",
    "\n",
    "    def forward(self, x):\n",
    "        return np.dot(self.weight, x) + self.bias\n",
    "\n",
    "    def diff_B(self, x):\n",
    "        return 1\n",
    "    def diff_W(self, x):\n",
    "        grad = np.empty(self.weight.shape + x.shape)\n",
    "        for i in range(grad.shape[0]):\n",
    "            for j in range(grad.shape[1]):\n",
    "                grad[i,j] = x\n",
    "        return grad.reshape((self.weight.shape[0], -1))\n",
    "    def diff_X(self, x):\n",
    "        return self.weight\n",
    "    def __call__(self, x):\n",
    "        return self.forward(x)\n",
    "    def __str__(self):\n",
    "        return f'Linear(in_features={self.in_dim}, out_features={self.out_dim})'\n",
    "    __repr__=__str__\n",
    "\n",
    "class ReLU():\n",
    "    def forward(self, x):\n",
    "        x[x < 0] = 0\n",
    "        return x\n",
    "\n",
    "    def diff(self, x):\n",
    "        return (x < 0) * 1\n",
    "\n",
    "    def __call__(self, x):\n",
    "        return self.forward(x)\n",
    "    def __str__(self):\n",
    "        return 'ReLU()'\n",
    "    __repr__=__str__\n",
    "        \n",
    "class Flatten():\n",
    "    def forward(self, x):\n",
    "        return x.reshape((-1))\n",
    "    \n",
    "    def __call__(self, x):\n",
    "        return self.forward(x)\n",
    "    def __str__(self):\n",
    "        return 'Flatten()'\n",
    "    __repr__=__str__\n",
    "\n",
    "class Sequential():\n",
    "    def __init__(self, *args):\n",
    "        self.layers = args\n",
    "\n",
    "    def forward(self, x):\n",
    "        for layer in self.layers:\n",
    "            x = layer(x)\n",
    "        return x\n",
    "\n",
    "    def __call__(self, x):\n",
    "        return self.forward(x)\n",
    "    def __getitem__(self, i):\n",
    "        return self.layers[i]\n",
    "    def __str__(self):\n",
    "        str = 'Sequentail(\\n'\n",
    "        for i, layer in enumerate(self.layers):\n",
    "            str += f'  ({i}): {repr(layer)}\\n'\n",
    "        str += ')'\n",
    "        return str\n",
    "    __repr__=__str__"
   ]
  },
  {
   "cell_type": "code",
   "execution_count": 7,
   "id": "d69a6ccf",
   "metadata": {},
   "outputs": [
    {
     "data": {
      "text/plain": [
       "Parameter containing:\n",
       "tensor([[ 0.0295,  0.0142,  0.0141,  ...,  0.0113,  0.0209, -0.0047],\n",
       "        [-0.0305,  0.0133,  0.0012,  ..., -0.0324, -0.0133,  0.0245],\n",
       "        [-0.0221,  0.0180,  0.0188,  ..., -0.0104,  0.0352,  0.0098],\n",
       "        ...,\n",
       "        [ 0.0210,  0.0038, -0.0067,  ...,  0.0171, -0.0321,  0.0151],\n",
       "        [ 0.0331, -0.0316, -0.0219,  ...,  0.0030,  0.0206,  0.0254],\n",
       "        [-0.0107,  0.0338, -0.0274,  ..., -0.0090, -0.0250,  0.0259]],\n",
       "       requires_grad=True)"
      ]
     },
     "execution_count": 7,
     "metadata": {},
     "output_type": "execute_result"
    }
   ],
   "source": [
    "model.hid[1].weight"
   ]
  },
  {
   "cell_type": "code",
   "execution_count": 8,
   "id": "7f8f9c56",
   "metadata": {
    "scrolled": false
   },
   "outputs": [
    {
     "name": "stdout",
     "output_type": "stream",
     "text": [
      "Sequentail(\n",
      "  (0): Flatten()\n",
      "  (1): Linear(in_features=784, out_features=128)\n",
      "  (2): ReLU()\n",
      "  (3): Linear(in_features=128, out_features=10)\n",
      ")\n"
     ]
    }
   ],
   "source": [
    "def softmax(Z):\n",
    "    \"\"\"Softmax: T[Nx1] -> T[Nx1]\"\"\"\n",
    "    return np.exp(Z) / np.sum(np.exp(Z))\n",
    "def diff_softmax(Z):\n",
    "    \"\"\"J_Softmax: T[Nx1] -> T[NxN]\"\"\"\n",
    "    n = Z.shape[0]\n",
    "    jac = np.empty((n, n))\n",
    "    softmax_z = softmax(Z)\n",
    "    for i in range(n):\n",
    "        for j in range(n):\n",
    "            jac[i][j] = softmax_z[i] * ((i == j) - softmax_z[j])\n",
    "    return jac\n",
    "\n",
    "def cross_entropy(y_hat, y):\n",
    "    \"\"\"CE: T[Nx1] x T[Nx1] -> T[1]\"\"\"\n",
    "    return -np.sum(y*np.log(y_hat))\n",
    "def diff_cross_entropy(y_hat, y):\n",
    "    \"\"\"G_CE: T[Nx1] x T[Nx1] -> T[Nx1]\"\"\"\n",
    "    grad = np.empty(y_hat.shape)\n",
    "    for i in range(y_hat.shape[0]):\n",
    "        grad[i] = - y[i] / y_hat[i]\n",
    "    return grad\n",
    "\n",
    "def cross_entropy_loss(Y_hat, Y):\n",
    "    \"\"\"CEL: T[Nx1] x T[Nx1] -> T[1]\"\"\"\n",
    "    return cross_entropy(softmax(Y_hat), Y)\n",
    "def diff_cross_entropy_loss(Y_hat, Y):\n",
    "    \"\"\"G_CEL: T[Nx1] x T[Nx1] -> T[Nx1]\"\"\"\n",
    "#     return np.matmul(diff_softmax(Y_hat), diff_cross_entropy(softmax(Y_hat), Y))\n",
    "    return (softmax(Y_hat) - Y)\n",
    "\n",
    "class RawNet():\n",
    "    def __init__(self):\n",
    "        self.hid = Sequential(\n",
    "            Flatten(),\n",
    "            Linear(28*28, 128),\n",
    "            ReLU(),\n",
    "            Linear(128, 10),\n",
    "        )\n",
    "    def forward(self, x):\n",
    "        return self.hid(x)\n",
    "    def __call__(self, x):\n",
    "        return self.forward(x)\n",
    "raw_model = RawNet()\n",
    "print(raw_model.hid)\n",
    "# raw_model.hid[1].weight = model.hid[1].weight.clone().detach().numpy()\n",
    "# raw_model.hid[1].bias = model.hid[1].bias.clone().detach().numpy()\n",
    "# raw_model.hid[3].weight = model.hid[3].weight.clone().detach().numpy()\n",
    "# raw_model.hid[3].bias = model.hid[3].bias.clone().detach().numpy()"
   ]
  },
  {
   "cell_type": "code",
   "execution_count": 9,
   "id": "df3dc765",
   "metadata": {},
   "outputs": [],
   "source": [
    "def fill_grads(Y_hat, y, X, model):\n",
    "    Y = np.zeros(10)\n",
    "    Y[y] = 1\n",
    "    X = model.hid[0](X)\n",
    "    Z = model.hid[1](X)\n",
    "    H = model.hid[2](Z)\n",
    "\n",
    "    d_cel = diff_cross_entropy_loss(Y_hat, Y)\n",
    "    model.hid[3].weight_grads = np.outer(d_cel, H)\n",
    "    model.hid[3].bias_grads = d_cel.T.dot(model.hid[3].diff_B(H))\n",
    "\n",
    "    d_relu = d_cel.T.dot(raw_model.hid[3].diff_X(H)) * model.hid[2].diff(Z)\n",
    "    model.hid[1].weight_grads = np.outer(d_relu, X)\n",
    "    model.hid[1].bias_grads = d_relu.dot(model.hid[1].diff_B(X))"
   ]
  },
  {
   "cell_type": "code",
   "execution_count": 10,
   "id": "2cd76c2f",
   "metadata": {},
   "outputs": [],
   "source": [
    "def apply_grads(model, lr=1e-3):\n",
    "    model.hid[3].weight -= model.hid[3].weight_grads * lr\n",
    "    model.hid[3].bias -= model.hid[3].bias_grads * lr\n",
    "    model.hid[1].weight -= model.hid[1].weight_grads * lr\n",
    "    model.hid[1].bias -= model.hid[1].bias_grads * lr"
   ]
  },
  {
   "cell_type": "code",
   "execution_count": 24,
   "id": "ff9e7e70",
   "metadata": {
    "scrolled": false
   },
   "outputs": [
    {
     "name": "stderr",
     "output_type": "stream",
     "text": [
      "100%|█████████████████████████████████████████████████████████████████████████████████████████████████████████| 10000/10000 [00:04<00:00, 2380.42it/s]\n"
     ]
    },
    {
     "data": {
      "image/png": "[encoded data removed]",
      "text/plain": [
       "<Figure size 432x288 with 1 Axes>"
      ]
     },
     "metadata": {
      "needs_background": "light"
     },
     "output_type": "display_data"
    },
    {
     "data": {
      "text/plain": [
       "1.0"
      ]
     },
     "execution_count": 24,
     "metadata": {},
     "output_type": "execute_result"
    }
   ],
   "source": [
    "BS = 1\n",
    "raw_model = RawNet()\n",
    "losses, accs = [], []\n",
    "\n",
    "for _ in trange(10000):\n",
    "    samp = np.random.randint(0, test_imgs.shape[0], size=BS)\n",
    "    X = train_imgs[samp]\n",
    "    Y = train_labels[samp]\n",
    "    for i, (x, y) in enumerate(zip(X, Y)):\n",
    "        pred = raw_model(x)\n",
    "        loss = cross_entropy_loss(pred, y)\n",
    "        Y_hat = np.argmax(pred)\n",
    "        acc = (Y_hat == Y).mean()\n",
    "        fill_grads(pred, y, x, raw_model)\n",
    "        apply_grads(raw_model, lr=1e-3)\n",
    "        losses.append(loss)\n",
    "        accs.append(acc)\n",
    "plt.ylim(-.1, 1.1)\n",
    "plt.plot(losses, label='Losses')\n",
    "plt.plot(accs, label='Accs')\n",
    "plt.legend()\n",
    "plt.show()\n",
    "np.array(accs)[-100].mean()"
   ]
  },
  {
   "cell_type": "code",
   "execution_count": 25,
   "id": "0a7ce675",
   "metadata": {},
   "outputs": [
    {
     "data": {
      "text/plain": [
       "0.87"
      ]
     },
     "execution_count": 25,
     "metadata": {},
     "output_type": "execute_result"
    }
   ],
   "source": [
    "np.array(accs)[-100:].mean()"
   ]
  },
  {
   "cell_type": "markdown",
   "id": "79707d06",
   "metadata": {},
   "source": [
    "np.argmax(raw_model(test_imgs[0].reshape((28,28))))"
   ]
  },
  {
   "cell_type": "code",
   "execution_count": 26,
   "id": "7ccd5404",
   "metadata": {
    "scrolled": true
   },
   "outputs": [
    {
     "data": {
      "text/plain": [
       "4"
      ]
     },
     "execution_count": 26,
     "metadata": {},
     "output_type": "execute_result"
    },
    {
     "data": {
      "image/png": "[encoded data removed]",
      "text/plain": [
       "<Figure size 432x288 with 1 Axes>"
      ]
     },
     "metadata": {
      "needs_background": "light"
     },
     "output_type": "display_data"
    }
   ],
   "source": [
    "plt.imshow(test_imgs[4].reshape((28,28)))\n",
    "np.argmax(raw_model(test_imgs[4].reshape((-1,1,28,28))))"
   ]
  }
 ],
 "metadata": {
  "kernelspec": {
   "display_name": "Python 3 (ipykernel)",
   "language": "python",
   "name": "python3"
  },
  "language_info": {
   "codemirror_mode": {
    "name": "ipython",
    "version": 3
   },
   "file_extension": ".py",
   "mimetype": "text/x-python",
   "name": "python",
   "nbconvert_exporter": "python",
   "pygments_lexer": "ipython3",
   "version": "3.8.9"
  }
 },
 "nbformat": 4,
 "nbformat_minor": 5
}
