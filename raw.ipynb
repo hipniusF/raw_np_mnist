{
 "cells": [
  {
   "cell_type": "code",
   "execution_count": 1,
   "id": "09c714be",
   "metadata": {},
   "outputs": [],
   "source": [
    "import torch\n",
    "from torch import nn\n",
    "from matplotlib import pyplot as plt\n",
    "import numpy as np\n",
    "from tqdm import trange\n",
    "import gzip\n",
    "import requests as r"
   ]
  },
  {
   "cell_type": "code",
   "execution_count": 2,
   "id": "2252e0f1",
   "metadata": {},
   "outputs": [],
   "source": [
    "urls = ['http://yann.lecun.com/exdb/mnist/train-images-idx3-ubyte.gz',\n",
    "       'http://yann.lecun.com/exdb/mnist/train-labels-idx1-ubyte.gz',\n",
    "       'http://yann.lecun.com/exdb/mnist/t10k-images-idx3-ubyte.gz',\n",
    "       'http://yann.lecun.com/exdb/mnist/t10k-labels-idx1-ubyte.gz']\n",
    "\n",
    "def download(urls):\n",
    "    for url in urls:\n",
    "        buf = r.get(url).content\n",
    "        with open('./downloads/' + url.split('/')[-1], 'wb') as f:\n",
    "            f.write(bytearray(buf))\n",
    "        \n",
    "download(urls)\n",
    "\n",
    "paths = {\n",
    "    'test_imgs': 't10k-images-idx3-ubyte.gz',\n",
    "    'test_labels': 't10k-labels-idx1-ubyte.gz',\n",
    "    'train_imgs': 'train-images-idx3-ubyte.gz',\n",
    "    'train_labels': 'train-labels-idx1-ubyte.gz'\n",
    "}\n",
    "for path in paths:\n",
    "    paths[path] = './downloads/' + paths[path]\n",
    "\n",
    "try:\n",
    "    for _, arr in data.items():\n",
    "        print(arr.shape)\n",
    "except NameError:\n",
    "    data = dict()\n",
    "    for name, path in paths.items():\n",
    "        with gzip.open(path) as f:\n",
    "            if 'imgs' in name:\n",
    "                data[name] = np.frombuffer(f.read(), 'B', offset=16).reshape((-1, 1, 28, 28))\n",
    "            else:\n",
    "                data[name] = np.frombuffer(f.read(), 'B', offset=8)"
   ]
  },
  {
   "cell_type": "code",
   "execution_count": 3,
   "id": "d3b15447",
   "metadata": {},
   "outputs": [],
   "source": [
    "test_imgs = data['test_imgs']\n",
    "test_labels = data['test_labels']\n",
    "train_imgs = data['train_imgs']\n",
    "train_labels = data['train_labels']"
   ]
  },
  {
   "cell_type": "code",
   "execution_count": 4,
   "id": "c1bf6316",
   "metadata": {},
   "outputs": [
    {
     "data": {
      "text/plain": [
       "dtype('uint8')"
      ]
     },
     "execution_count": 4,
     "metadata": {},
     "output_type": "execute_result"
    }
   ],
   "source": [
    "test_imgs.dtype"
   ]
  },
  {
   "cell_type": "code",
   "execution_count": 5,
   "id": "016e60a7",
   "metadata": {},
   "outputs": [],
   "source": [
    "class BobNet(nn.Module):\n",
    "    def __init__(self):\n",
    "        super(BobNet, self).__init__()\n",
    "        self.hid = nn.Sequential(\n",
    "            nn.Flatten(),\n",
    "            nn.Linear(28*28, 128),\n",
    "            nn.ReLU(),\n",
    "            nn.Linear(128, 10),\n",
    "        )\n",
    "    def forward(self, x):\n",
    "        return self.hid(x)"
   ]
  },
  {
   "cell_type": "code",
   "execution_count": 6,
   "id": "bf065939",
   "metadata": {
    "scrolled": true
   },
   "outputs": [
    {
     "name": "stderr",
     "output_type": "stream",
     "text": [
      "Loss= 0.06, Acc= 0.97: 100%|████████████████████████████████████████████████████████████████████████████████████████████████████████| 5000/5000 [00:05<00:00, 942.21it/s]\n"
     ]
    },
    {
     "data": {
      "image/png": "[encoded data removed]",
      "text/plain": [
       "<Figure size 432x288 with 1 Axes>"
      ]
     },
     "metadata": {
      "needs_background": "light"
     },
     "output_type": "display_data"
    }
   ],
   "source": [
    "model = BobNet()\n",
    "loss_fn = nn.CrossEntropyLoss()\n",
    "optimizer = torch.optim.SGD(model.parameters(), lr=1e-3, momentum=0)\n",
    "epochs = 5000\n",
    "BS = 32\n",
    "\n",
    "losses, accs  = [], []\n",
    "for i in (t := trange(epochs)):\n",
    "    samp = np.random.randint(0, train_imgs.shape[0], size=BS)\n",
    "    X = torch.tensor(train_imgs[samp]).float()\n",
    "    Y = torch.tensor(train_labels[samp]).long()\n",
    "    \n",
    "    optimizer.zero_grad()\n",
    "    pred = model(X)\n",
    "    loss = loss_fn(pred, Y)\n",
    "    Y_hat = torch.argmax(pred, dim=1)\n",
    "    acc = (Y_hat == Y).float().mean()\n",
    "    loss.backward()\n",
    "    optimizer.step()\n",
    "    loss, acc = loss.item(), acc.item()\n",
    "    losses.append(loss)\n",
    "    accs.append(acc)\n",
    "    t.set_description(f'Loss={loss: .2f}, Acc={acc: .2f}')\n",
    "\n",
    "plt.ylim(-.1, 1.1)\n",
    "plt.plot(losses, label='Losses')\n",
    "plt.plot(accs, label='Accs')\n",
    "plt.legend()\n",
    "plt.show()"
   ]
  },
  {
   "cell_type": "code",
   "execution_count": 186,
   "id": "bf7e80fb",
   "metadata": {},
   "outputs": [],
   "source": [
    "class Linear():\n",
    "    def __init__(self, in_dim, out_dim):\n",
    "        self.in_dim = in_dim\n",
    "        self.out_dim = out_dim\n",
    "        self.weight = np.empty((out_dim, in_dim))\n",
    "        self.bias = np.empty((out_dim))\n",
    "        \n",
    "    def forward(self, x):\n",
    "        return np.dot(self.weight, x) + self.bias\n",
    "    \n",
    "    def __call__(self, x):\n",
    "        return self.forward(x)\n",
    "    def __str__(self):\n",
    "        return f'Linear(in_features={self.in_dim}, out_features={self.out_dim})'\n",
    "    __repr__=__str__\n",
    "        \n",
    "class ReLU():\n",
    "    def forward(self, x):\n",
    "        x[x < 0] = 0\n",
    "        return x\n",
    "    \n",
    "    def __call__(self, x):\n",
    "        return self.forward(x)\n",
    "    def __str__(self):\n",
    "        return 'ReLU()'\n",
    "    __repr__=__str__\n",
    "        \n",
    "class Flatten():\n",
    "    def forward(self, x):\n",
    "        return x.reshape((-1))\n",
    "    \n",
    "    def __call__(self, x):\n",
    "        return self.forward(x)\n",
    "    def __str__(self):\n",
    "        return 'Flatten()'\n",
    "    __repr__=__str__\n",
    "\n",
    "class Sequential():\n",
    "    def __init__(self, *args):\n",
    "        self.layers = args\n",
    "\n",
    "    def forward(self, x):\n",
    "        for layer in self.layers:\n",
    "            x = layer(x)\n",
    "        return x\n",
    "\n",
    "    def __call__(self, x):\n",
    "        return self.forward(x)\n",
    "    def __getitem__(self, i):\n",
    "        return self.layers[i]\n",
    "    def __str__(self):\n",
    "        str = 'Sequentail(\\n'\n",
    "        for i, layer in enumerate(self.layers):\n",
    "            str += f'  ({i}): {repr(layer)}\\n'\n",
    "        str += ')'\n",
    "        return str\n",
    "    __repr__=__str__"
   ]
  },
  {
   "cell_type": "code",
   "execution_count": 191,
   "id": "1637467d",
   "metadata": {
    "scrolled": true
   },
   "outputs": [
    {
     "name": "stdout",
     "output_type": "stream",
     "text": [
      "Sequentail(\n",
      "  (0): Flatten()\n",
      "  (1): Linear(in_features=784, out_features=128)\n",
      "  (2): ReLU()\n",
      "  (3): Linear(in_features=128, out_features=10)\n",
      ")\n"
     ]
    }
   ],
   "source": [
    "class RawNet():\n",
    "    def __init__(self):\n",
    "        self.hid = Sequential(\n",
    "            Flatten(),\n",
    "            Linear(28*28, 128),\n",
    "            ReLU(),\n",
    "            Linear(128, 10),\n",
    "        )\n",
    "    def forward(self, x):\n",
    "        return self.hid(x)\n",
    "    def __call__(self, x):\n",
    "        return self.forward(x)\n",
    "raw_model = RawNet()\n",
    "print(raw_model.hid)"
   ]
  },
  {
   "cell_type": "code",
   "execution_count": 193,
   "id": "07019733",
   "metadata": {},
   "outputs": [
    {
     "data": {
      "text/plain": [
       "(128, 784)"
      ]
     },
     "execution_count": 193,
     "metadata": {},
     "output_type": "execute_result"
    }
   ],
   "source": [
    "raw_model.hid[1].weight = model.hid[1].weight.clone().detach().numpy()\n",
    "raw_model.hid[1].bias = model.hid[1].bias.clone().detach().numpy()\n",
    "raw_model.hid[3].weight = model.hid[3].weight.clone().detach().numpy()\n",
    "raw_model.hid[3].bias = model.hid[3].bias.clone().detach().numpy()\n",
    "raw_model.hid[1].weight.shape"
   ]
  },
  {
   "cell_type": "code",
   "execution_count": 196,
   "id": "c59b3ee7",
   "metadata": {},
   "outputs": [
    {
     "data": {
      "text/plain": [
       "7"
      ]
     },
     "execution_count": 196,
     "metadata": {},
     "output_type": "execute_result"
    }
   ],
   "source": [
    "np.argmax(raw_model(test_imgs[0].reshape((28,28))))"
   ]
  },
  {
   "cell_type": "code",
   "execution_count": 96,
   "id": "369cb433",
   "metadata": {},
   "outputs": [
    {
     "data": {
      "text/plain": [
       "tensor(7)"
      ]
     },
     "execution_count": 96,
     "metadata": {},
     "output_type": "execute_result"
    },
    {
     "data": {
      "image/png": "[encoded data removed]",
      "text/plain": [
       "<Figure size 432x288 with 1 Axes>"
      ]
     },
     "metadata": {
      "needs_background": "light"
     },
     "output_type": "display_data"
    }
   ],
   "source": [
    "plt.imshow(test_imgs[0].reshape((28,28)))\n",
    "torch.argmax(model(torch.tensor(test_imgs[0].reshape((-1,1,28,28))).float()))"
   ]
  }
 ],
 "metadata": {
  "kernelspec": {
   "display_name": "Python 3 (ipykernel)",
   "language": "python",
   "name": "python3"
  },
  "language_info": {
   "codemirror_mode": {
    "name": "ipython",
    "version": 3
   },
   "file_extension": ".py",
   "mimetype": "text/x-python",
   "name": "python",
   "nbconvert_exporter": "python",
   "pygments_lexer": "ipython3",
   "version": "3.8.9"
  }
 },
 "nbformat": 4,
 "nbformat_minor": 5
}
