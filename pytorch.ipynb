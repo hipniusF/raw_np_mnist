{
 "cells": [
  {
   "cell_type": "code",
   "execution_count": 1,
   "id": "09c714be",
   "metadata": {},
   "outputs": [],
   "source": [
    "import torch\n",
    "from torch import nn\n",
    "from matplotlib import pyplot as plt\n",
    "import numpy as np\n",
    "from tqdm import trange\n",
    "import gzip\n",
    "import requests as r"
   ]
  },
  {
   "cell_type": "code",
   "execution_count": 2,
   "id": "2252e0f1",
   "metadata": {},
   "outputs": [],
   "source": [
    "urls = ['http://yann.lecun.com/exdb/mnist/train-images-idx3-ubyte.gz',\n",
    "       'http://yann.lecun.com/exdb/mnist/train-labels-idx1-ubyte.gz',\n",
    "       'http://yann.lecun.com/exdb/mnist/t10k-images-idx3-ubyte.gz',\n",
    "       'http://yann.lecun.com/exdb/mnist/t10k-labels-idx1-ubyte.gz']\n",
    "\n",
    "def download(urls):\n",
    "    for url in urls:\n",
    "        buf = r.get(url).content\n",
    "        with open('./downloads/' + url.split('/')[-1], 'wb') as f:\n",
    "            f.write(bytearray(buf))\n",
    "        \n",
    "download(urls)\n",
    "\n",
    "paths = {\n",
    "    'test_imgs': 't10k-images-idx3-ubyte.gz',\n",
    "    'test_labels': 't10k-labels-idx1-ubyte.gz',\n",
    "    'train_imgs': 'train-images-idx3-ubyte.gz',\n",
    "    'train_labels': 'train-labels-idx1-ubyte.gz'\n",
    "}\n",
    "for path in paths:\n",
    "    paths[path] = './downloads/' + paths[path]\n",
    "\n",
    "try:\n",
    "    for _, arr in data.items():\n",
    "        print(arr.shape)\n",
    "except NameError:\n",
    "    data = dict()\n",
    "    for name, path in paths.items():\n",
    "        with gzip.open(path) as f:\n",
    "            if 'imgs' in name:\n",
    "                data[name] = np.frombuffer(f.read(), 'B', offset=16).reshape((-1, 1, 28, 28))\n",
    "            else:\n",
    "                data[name] = np.frombuffer(f.read(), 'B', offset=8)"
   ]
  },
  {
   "cell_type": "code",
   "execution_count": 3,
   "id": "d3b15447",
   "metadata": {},
   "outputs": [],
   "source": [
    "test_imgs = data['test_imgs']\n",
    "test_labels = data['test_labels']\n",
    "train_imgs = data['train_imgs']\n",
    "train_labels = data['train_labels']"
   ]
  },
  {
   "cell_type": "code",
   "execution_count": 4,
   "id": "8cb24bff",
   "metadata": {},
   "outputs": [
    {
     "data": {
      "text/plain": [
       "dtype('uint8')"
      ]
     },
     "execution_count": 4,
     "metadata": {},
     "output_type": "execute_result"
    }
   ],
   "source": [
    "test_imgs.dtype"
   ]
  },
  {
   "cell_type": "code",
   "execution_count": 5,
   "id": "016e60a7",
   "metadata": {},
   "outputs": [],
   "source": [
    "class BobNet(nn.Module):\n",
    "    def __init__(self):\n",
    "        super(BobNet, self).__init__()\n",
    "        self.hid = nn.Sequential(\n",
    "            nn.Flatten(),\n",
    "            nn.Linear(28*28, 128),\n",
    "            nn.ReLU(),\n",
    "            nn.Linear(128, 10),\n",
    "        )\n",
    "    def forward(self, x):\n",
    "        return self.hid(x)"
   ]
  },
  {
   "cell_type": "code",
   "execution_count": 6,
   "id": "10db8ffc",
   "metadata": {},
   "outputs": [
    {
     "name": "stderr",
     "output_type": "stream",
     "text": [
      "Loss= 0.22, Acc= 0.94:  60%|██████████████████████████████████████████████████████████████▎                                         | 2996/5000 [00:03<00:02, 994.59it/s]IOPub message rate exceeded.\n",
      "The notebook server will temporarily stop sending output\n",
      "to the client in order to avoid crashing it.\n",
      "To change this limit, set the config variable\n",
      "`--NotebookApp.iopub_msg_rate_limit`.\n",
      "\n",
      "Current values:\n",
      "NotebookApp.iopub_msg_rate_limit=1000.0 (msgs/sec)\n",
      "NotebookApp.rate_limit_window=3.0 (secs)\n",
      "\n",
      "Loss= 0.31, Acc= 0.94: 100%|███████████████████████████████████████████████████████████████████████████████████████████████████████| 5000/5000 [00:04<00:00, 1029.12it/s]\n"
     ]
    },
    {
     "data": {
      "image/png": "[encoded data removed]",
      "text/plain": [
       "<Figure size 432x288 with 1 Axes>"
      ]
     },
     "metadata": {
      "needs_background": "light"
     },
     "output_type": "display_data"
    }
   ],
   "source": [
    "model = BobNet()\n",
    "loss_fn = nn.CrossEntropyLoss()\n",
    "optimizer = torch.optim.SGD(model.parameters(), lr=1e-3, momentum=0)\n",
    "epochs = 5000\n",
    "BS = 32\n",
    "\n",
    "losses, accs  = [], []\n",
    "for i in (t := trange(epochs)):\n",
    "    samp = np.random.randint(0, train_imgs.shape[0], size=BS)\n",
    "    X = torch.tensor(train_imgs[samp]).float()\n",
    "    Y = torch.tensor(train_labels[samp]).long()\n",
    "    \n",
    "    optimizer.zero_grad()\n",
    "    pred = model(X)\n",
    "    loss = loss_fn(pred, Y)\n",
    "    Y_hat = torch.argmax(pred, dim=1)\n",
    "    acc = (Y_hat == Y).float().mean()\n",
    "    loss.backward()\n",
    "    optimizer.step()\n",
    "    loss, acc = loss.item(), acc.item()\n",
    "    losses.append(loss)\n",
    "    accs.append(acc)\n",
    "    t.set_description(f'Loss={loss: .2f}, Acc={acc: .2f}')\n",
    "\n",
    "plt.ylim(-.1, 1.1)\n",
    "plt.plot(losses, label='Losses')\n",
    "plt.plot(accs, label='Accs')\n",
    "plt.legend()\n",
    "plt.show()"
   ]
  }
 ],
 "metadata": {
  "kernelspec": {
   "display_name": "Python 3 (ipykernel)",
   "language": "python",
   "name": "python3"
  },
  "language_info": {
   "codemirror_mode": {
    "name": "ipython",
    "version": 3
   },
   "file_extension": ".py",
   "mimetype": "text/x-python",
   "name": "python",
   "nbconvert_exporter": "python",
   "pygments_lexer": "ipython3",
   "version": "3.8.9"
  }
 },
 "nbformat": 4,
 "nbformat_minor": 5
}
